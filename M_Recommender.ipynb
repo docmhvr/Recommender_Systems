{
 "cells": [
  {
   "cell_type": "markdown",
   "id": "8ce10eee",
   "metadata": {},
   "source": [
    "# Model-based Collaborative filtering system"
   ]
  },
  {
   "cell_type": "code",
   "execution_count": 3,
   "id": "dcd52e2a",
   "metadata": {},
   "outputs": [],
   "source": [
    "import pandas as pd\n",
    "import numpy as np\n",
    "import sklearn\n",
    "from sklearn.decomposition import TruncatedSVD"
   ]
  },
  {
   "cell_type": "markdown",
   "id": "5d0f9ec3",
   "metadata": {},
   "source": [
    "### Using 100k MovieLens dataset"
   ]
  },
  {
   "cell_type": "code",
   "execution_count": null,
   "id": "30e67ec5",
   "metadata": {},
   "outputs": [],
   "source": []
  }
 ],
 "metadata": {
  "kernelspec": {
   "display_name": "Python 3 (ipykernel)",
   "language": "python",
   "name": "python3"
  },
  "language_info": {
   "codemirror_mode": {
    "name": "ipython",
    "version": 3
   },
   "file_extension": ".py",
   "mimetype": "text/x-python",
   "name": "python",
   "nbconvert_exporter": "python",
   "pygments_lexer": "ipython3",
   "version": "3.9.12"
  }
 },
 "nbformat": 4,
 "nbformat_minor": 5
}
